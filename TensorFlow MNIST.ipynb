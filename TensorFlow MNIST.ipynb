{
 "cells": [
  {
   "cell_type": "code",
   "execution_count": 1,
   "metadata": {
    "collapsed": false
   },
   "outputs": [],
   "source": [
    "#from tensorflow.examples.tutorials.mnist import input_data\n",
    "#mnist1 = input_data.read_data_sets('MNIST_data', one_hot=True)\n",
    "from disk_data_loader import load_from_file\n",
    "import numpy as np\n",
    "\n",
    "mnist=load_from_file('images.npydata', 'labels.npydata')\n",
    "num_labels = 21\n",
    "img_dim = [28,28]\n",
    "img_vec_len = img_dim[0]*img_dim[1]"
   ]
  },
  {
   "cell_type": "code",
   "execution_count": 2,
   "metadata": {
    "collapsed": false
   },
   "outputs": [],
   "source": [
    "import tensorflow as tf\n",
    "sess = tf.InteractiveSession()"
   ]
  },
  {
   "cell_type": "code",
   "execution_count": 3,
   "metadata": {
    "collapsed": false
   },
   "outputs": [],
   "source": [
    "x = tf.placeholder(tf.float32, shape=[None, img_vec_len])\n",
    "y_ = tf.placeholder(tf.float32, shape=[None, num_labels])\n",
    "\n",
    "W = tf.Variable(tf.zeros([img_vec_len,num_labels]))\n",
    "b = tf.Variable(tf.zeros([num_labels]))\n",
    "\n",
    "sess.run(tf.initialize_all_variables())"
   ]
  },
  {
   "cell_type": "code",
   "execution_count": 4,
   "metadata": {
    "collapsed": false
   },
   "outputs": [],
   "source": [
    "y = tf.nn.softmax(tf.matmul(x,W) + b)\n",
    "cross_entropy = tf.reduce_mean(-tf.reduce_sum(y_ * tf.log(y), reduction_indices=[1]))"
   ]
  },
  {
   "cell_type": "code",
   "execution_count": 5,
   "metadata": {
    "collapsed": false
   },
   "outputs": [],
   "source": [
    "train_step = tf.train.GradientDescentOptimizer(0.5).minimize(cross_entropy)\n",
    "for i in range(1000):\n",
    "  batch = mnist.next_batch(50)\n",
    "  train_step.run(feed_dict={x: batch[0], y_: batch[1]})"
   ]
  },
  {
   "cell_type": "code",
   "execution_count": 6,
   "metadata": {
    "collapsed": false
   },
   "outputs": [
    {
     "name": "stdout",
     "output_type": "stream",
     "text": [
      "0.047619\n"
     ]
    }
   ],
   "source": [
    "correct_prediction = tf.equal(tf.argmax(y,1), tf.argmax(y_,1))\n",
    "accuracy = tf.reduce_mean(tf.cast(correct_prediction, tf.float32))\n",
    "print(accuracy.eval(feed_dict={x: mnist.images, y_: mnist.labels}))\n"
   ]
  },
  {
   "cell_type": "markdown",
   "metadata": {},
   "source": [
    "### Building Layers"
   ]
  },
  {
   "cell_type": "code",
   "execution_count": 7,
   "metadata": {
    "collapsed": true
   },
   "outputs": [],
   "source": [
    "def weight_variable(shape):\n",
    "  initial = tf.truncated_normal(shape, stddev=0.1)\n",
    "  return tf.Variable(initial)\n",
    "\n",
    "def bias_variable(shape):\n",
    "  initial = tf.constant(0.1, shape=shape)\n",
    "  return tf.Variable(initial)"
   ]
  },
  {
   "cell_type": "code",
   "execution_count": 8,
   "metadata": {
    "collapsed": true
   },
   "outputs": [],
   "source": [
    "def conv2d(x, W):\n",
    "  return tf.nn.conv2d(x, W, strides=[1, 1, 1, 1], padding='SAME')\n",
    "\n",
    "def max_pool_2x2(x):\n",
    "  return tf.nn.max_pool(x, ksize=[1, 2, 2, 1],\n",
    "                        strides=[1, 2, 2, 1], padding='SAME')"
   ]
  },
  {
   "cell_type": "code",
   "execution_count": 9,
   "metadata": {
    "collapsed": false
   },
   "outputs": [],
   "source": [
    "W_conv1 = weight_variable([5, 5, 1, 32])\n",
    "b_conv1 = bias_variable([32])\n",
    "x_image = tf.reshape(x, [-1,img_dim[0],img_dim[1],1])\n",
    "h_conv1 = tf.nn.relu(conv2d(x_image, W_conv1) + b_conv1)\n",
    "h_pool1 = max_pool_2x2(h_conv1)"
   ]
  },
  {
   "cell_type": "code",
   "execution_count": 10,
   "metadata": {
    "collapsed": false
   },
   "outputs": [],
   "source": [
    "W_conv2 = weight_variable([5, 5, 32, 64])\n",
    "b_conv2 = bias_variable([64])\n",
    "\n",
    "h_conv2 = tf.nn.relu(conv2d(h_pool1, W_conv2) + b_conv2)\n",
    "h_pool2 = max_pool_2x2(h_conv2)"
   ]
  },
  {
   "cell_type": "code",
   "execution_count": 11,
   "metadata": {
    "collapsed": false
   },
   "outputs": [],
   "source": [
    "W_fc1 = weight_variable([3136, 1024])\n",
    "b_fc1 = bias_variable([1024])\n",
    "\n",
    "h_pool2_flat = tf.reshape(h_pool2, [-1, 3136])\n",
    "h_fc1 = tf.nn.relu(tf.matmul(h_pool2_flat, W_fc1) + b_fc1)"
   ]
  },
  {
   "cell_type": "code",
   "execution_count": 12,
   "metadata": {
    "collapsed": false
   },
   "outputs": [],
   "source": [
    "keep_prob = tf.placeholder(tf.float32)\n",
    "h_fc1_drop = tf.nn.dropout(h_fc1, keep_prob)\n",
    "\n",
    "W_fc2 = weight_variable([1024, num_labels])\n",
    "b_fc2 = bias_variable([num_labels])\n",
    "\n",
    "y_conv=tf.nn.softmax(tf.matmul(h_fc1_drop, W_fc2) + b_fc2)"
   ]
  },
  {
   "cell_type": "code",
   "execution_count": 14,
   "metadata": {
    "collapsed": false
   },
   "outputs": [
    {
     "name": "stdout",
     "output_type": "stream",
     "text": [
      "step 0, training accuracy 0.04\n",
      "step 1, training accuracy 0.02\n",
      "step 2, training accuracy 0.02\n",
      "step 3, training accuracy 0.07\n",
      "step 4, training accuracy 0.04\n",
      "step 5, training accuracy 0.05\n",
      "step 6, training accuracy 0.02\n",
      "step 7, training accuracy 0.09\n",
      "step 8, training accuracy 0.07\n",
      "step 9, training accuracy 0.06\n",
      "step 10, training accuracy 0.02\n",
      "step 11, training accuracy 0.03\n",
      "step 12, training accuracy 0.02\n",
      "step 13, training accuracy 0.04\n",
      "step 14, training accuracy 0.02\n",
      "step 15, training accuracy 0.05\n",
      "step 16, training accuracy 0.08\n",
      "step 17, training accuracy 0.07\n",
      "step 18, training accuracy 0.02\n",
      "step 19, training accuracy 0.01\n",
      "step 20, training accuracy 0.06\n",
      "step 21, training accuracy 0.07\n",
      "step 22, training accuracy 0.05\n",
      "step 23, training accuracy 0.03\n",
      "step 24, training accuracy 0.07\n",
      "step 25, training accuracy 0.07\n",
      "step 26, training accuracy 0.02\n",
      "step 27, training accuracy 0.05\n",
      "step 28, training accuracy 0.04\n",
      "step 29, training accuracy 0.04\n",
      "step 30, training accuracy 0.05\n",
      "step 31, training accuracy 0.08\n",
      "step 32, training accuracy 0.06\n",
      "step 33, training accuracy 0.03\n",
      "step 34, training accuracy 0.04\n",
      "step 35, training accuracy 0.06\n",
      "step 36, training accuracy 0.03\n",
      "step 37, training accuracy 0.02\n",
      "step 38, training accuracy 0.03\n",
      "step 39, training accuracy 0.09\n",
      "step 40, training accuracy 0.06\n",
      "step 41, training accuracy 0.03\n",
      "step 42, training accuracy 0.05\n",
      "step 43, training accuracy 0.04\n",
      "step 44, training accuracy 0.03\n",
      "step 45, training accuracy 0.06\n",
      "step 46, training accuracy 0.01\n",
      "step 47, training accuracy 0.07\n",
      "step 48, training accuracy 0.07\n",
      "step 49, training accuracy 0.09\n",
      "step 50, training accuracy 0.03\n",
      "step 51, training accuracy 0.03\n",
      "step 52, training accuracy 0.08\n",
      "step 53, training accuracy 0.03\n",
      "step 54, training accuracy 0.05\n",
      "step 55, training accuracy 0.03\n",
      "step 56, training accuracy 0.07\n",
      "step 57, training accuracy 0.06\n",
      "step 58, training accuracy 0.03\n",
      "step 59, training accuracy 0.02\n",
      "step 60, training accuracy 0.05\n",
      "step 61, training accuracy 0.06\n",
      "step 62, training accuracy 0.08\n",
      "step 63, training accuracy 0.02\n",
      "step 64, training accuracy 0.11\n",
      "step 65, training accuracy 0.05\n",
      "step 66, training accuracy 0.04\n",
      "step 67, training accuracy 0.01\n",
      "step 68, training accuracy 0.03\n",
      "step 69, training accuracy 0.04\n",
      "step 70, training accuracy 0.08\n",
      "step 71, training accuracy 0.04\n",
      "step 72, training accuracy 0.05\n",
      "step 73, training accuracy 0.08\n",
      "step 74, training accuracy 0.04\n",
      "step 75, training accuracy 0.03\n",
      "step 76, training accuracy 0.08\n",
      "step 77, training accuracy 0.03\n",
      "step 78, training accuracy 0.04\n",
      "step 79, training accuracy 0.05\n",
      "step 80, training accuracy 0.02\n",
      "step 81, training accuracy 0.06\n",
      "step 82, training accuracy 0.05\n",
      "step 83, training accuracy 0.04\n",
      "step 84, training accuracy 0.07\n",
      "step 85, training accuracy 0.05\n",
      "step 86, training accuracy 0.03\n",
      "step 87, training accuracy 0.03\n",
      "step 88, training accuracy 0.04\n",
      "step 89, training accuracy 0.07\n",
      "step 90, training accuracy 0.07\n",
      "step 91, training accuracy 0.03\n",
      "step 92, training accuracy 0.05\n",
      "step 93, training accuracy 0.03\n",
      "step 94, training accuracy 0.07\n",
      "step 95, training accuracy 0.05\n",
      "step 96, training accuracy 0.06\n",
      "step 97, training accuracy 0.03\n",
      "step 98, training accuracy 0.07\n",
      "step 99, training accuracy 0.05\n",
      "step 100, training accuracy 0.04\n",
      "step 101, training accuracy 0.08\n",
      "step 102, training accuracy 0.07\n",
      "step 103, training accuracy 0.07\n",
      "step 104, training accuracy 0.03\n",
      "step 105, training accuracy 0.07\n",
      "step 106, training accuracy 0.05\n",
      "step 107, training accuracy 0.05\n",
      "step 108, training accuracy 0.09\n",
      "step 109, training accuracy 0.05\n",
      "step 110, training accuracy 0.05\n",
      "step 111, training accuracy 0.07\n",
      "step 112, training accuracy 0.08\n",
      "step 113, training accuracy 0.1\n",
      "step 114, training accuracy 0.03\n",
      "step 115, training accuracy 0.08\n",
      "step 116, training accuracy 0.06\n",
      "step 117, training accuracy 0.04\n",
      "step 118, training accuracy 0.06\n",
      "step 119, training accuracy 0.05\n",
      "step 120, training accuracy 0.06\n",
      "step 121, training accuracy 0.03\n",
      "step 122, training accuracy 0.03\n",
      "step 123, training accuracy 0.07\n",
      "step 124, training accuracy 0.08\n",
      "step 125, training accuracy 0.13\n",
      "step 126, training accuracy 0.06\n",
      "step 127, training accuracy 0.04\n",
      "step 128, training accuracy 0.08\n",
      "step 129, training accuracy 0.03\n",
      "step 130, training accuracy 0.06\n",
      "step 131, training accuracy 0.06\n",
      "step 132, training accuracy 0.04\n",
      "step 133, training accuracy 0.09\n",
      "step 134, training accuracy 0.07\n",
      "step 135, training accuracy 0.03\n",
      "step 136, training accuracy 0.08\n",
      "step 137, training accuracy 0.05\n",
      "step 138, training accuracy 0.09\n",
      "step 139, training accuracy 0.04\n",
      "step 140, training accuracy 0.03\n",
      "step 141, training accuracy 0.06\n",
      "step 142, training accuracy 0.04\n",
      "step 143, training accuracy 0.05\n",
      "step 144, training accuracy 0.09\n",
      "step 145, training accuracy 0.09\n",
      "step 146, training accuracy 0.05\n",
      "step 147, training accuracy 0.11\n",
      "step 148, training accuracy 0.07\n",
      "step 149, training accuracy 0.09\n",
      "step 150, training accuracy 0.05\n",
      "step 151, training accuracy 0.08\n",
      "step 152, training accuracy 0.05\n",
      "step 153, training accuracy 0.05\n",
      "step 154, training accuracy 0.13\n",
      "step 155, training accuracy 0.05\n",
      "step 156, training accuracy 0.13\n",
      "step 157, training accuracy 0.08\n",
      "step 158, training accuracy 0.07\n",
      "step 159, training accuracy 0.09\n",
      "step 160, training accuracy 0.08\n",
      "step 161, training accuracy 0.04\n",
      "step 162, training accuracy 0.07\n",
      "step 163, training accuracy 0.07\n",
      "step 164, training accuracy 0.08\n",
      "step 165, training accuracy 0.09\n",
      "step 166, training accuracy 0.16\n",
      "step 167, training accuracy 0.07\n",
      "step 168, training accuracy 0.09\n",
      "step 169, training accuracy 0.06\n",
      "step 170, training accuracy 0.07\n",
      "step 171, training accuracy 0.06\n",
      "step 172, training accuracy 0.13\n",
      "step 173, training accuracy 0.09\n",
      "step 174, training accuracy 0.09\n",
      "step 175, training accuracy 0.05\n",
      "step 176, training accuracy 0.09\n",
      "step 177, training accuracy 0.1\n",
      "step 178, training accuracy 0.11\n",
      "step 179, training accuracy 0.08\n",
      "step 180, training accuracy 0.05\n",
      "step 181, training accuracy 0.06\n",
      "step 182, training accuracy 0.07\n",
      "step 183, training accuracy 0.04\n",
      "step 184, training accuracy 0.08\n",
      "step 185, training accuracy 0.15\n",
      "step 186, training accuracy 0.08\n",
      "step 187, training accuracy 0.06\n",
      "step 188, training accuracy 0.06\n",
      "step 189, training accuracy 0.08\n",
      "step 190, training accuracy 0.12\n",
      "step 191, training accuracy 0.11\n",
      "step 192, training accuracy 0.06\n",
      "step 193, training accuracy 0.12\n",
      "step 194, training accuracy 0.08\n",
      "step 195, training accuracy 0.09\n",
      "step 196, training accuracy 0.16\n",
      "step 197, training accuracy 0.03\n",
      "step 198, training accuracy 0.06\n",
      "step 199, training accuracy 0.07\n",
      "step 200, training accuracy 0.08\n",
      "step 201, training accuracy 0.1\n",
      "step 202, training accuracy 0.06\n",
      "step 203, training accuracy 0.06\n",
      "step 204, training accuracy 0.12\n",
      "step 205, training accuracy 0.09\n",
      "step 206, training accuracy 0.1\n",
      "step 207, training accuracy 0.1\n",
      "step 208, training accuracy 0.04\n",
      "step 209, training accuracy 0.06\n",
      "step 210, training accuracy 0.1\n",
      "step 211, training accuracy 0.08\n",
      "step 212, training accuracy 0.09\n",
      "step 213, training accuracy 0.06\n",
      "step 214, training accuracy 0.08\n",
      "step 215, training accuracy 0.07\n",
      "step 216, training accuracy 0.11\n",
      "step 217, training accuracy 0.1\n",
      "step 218, training accuracy 0.08\n",
      "step 219, training accuracy 0.15\n",
      "step 220, training accuracy 0.07\n",
      "step 221, training accuracy 0.06\n",
      "step 222, training accuracy 0.13\n",
      "step 223, training accuracy 0.13\n",
      "step 224, training accuracy 0.06\n",
      "step 225, training accuracy 0.1\n",
      "step 226, training accuracy 0.08\n",
      "step 227, training accuracy 0.05\n",
      "step 228, training accuracy 0.11\n",
      "step 229, training accuracy 0.08\n",
      "step 230, training accuracy 0.09\n",
      "step 231, training accuracy 0.1\n",
      "step 232, training accuracy 0.03\n",
      "step 233, training accuracy 0.11\n",
      "step 234, training accuracy 0.14\n",
      "step 235, training accuracy 0.13\n",
      "step 236, training accuracy 0.09\n",
      "step 237, training accuracy 0.07\n",
      "step 238, training accuracy 0.09\n",
      "step 239, training accuracy 0.08\n",
      "step 240, training accuracy 0.12\n",
      "step 241, training accuracy 0.11\n",
      "step 242, training accuracy 0.1\n",
      "step 243, training accuracy 0.1\n",
      "step 244, training accuracy 0.11\n",
      "step 245, training accuracy 0.11\n",
      "step 246, training accuracy 0.12\n",
      "step 247, training accuracy 0.14\n",
      "step 248, training accuracy 0.07\n",
      "step 249, training accuracy 0.08\n",
      "step 250, training accuracy 0.06\n",
      "step 251, training accuracy 0.12\n",
      "step 252, training accuracy 0.16\n",
      "step 253, training accuracy 0.09\n",
      "step 254, training accuracy 0.15\n",
      "step 255, training accuracy 0.11\n",
      "step 256, training accuracy 0.15\n",
      "step 257, training accuracy 0.1\n",
      "step 258, training accuracy 0.11\n",
      "step 259, training accuracy 0.16\n",
      "step 260, training accuracy 0.08\n",
      "step 261, training accuracy 0.1\n",
      "step 262, training accuracy 0.16\n",
      "step 263, training accuracy 0.14\n",
      "step 264, training accuracy 0.09\n",
      "step 265, training accuracy 0.1\n",
      "step 266, training accuracy 0.05\n",
      "step 267, training accuracy 0.11\n",
      "step 268, training accuracy 0.11\n",
      "step 269, training accuracy 0.14\n",
      "step 270, training accuracy 0.08\n",
      "step 271, training accuracy 0.06\n",
      "step 272, training accuracy 0.08\n",
      "step 273, training accuracy 0.15\n",
      "step 274, training accuracy 0.08\n",
      "step 275, training accuracy 0.08\n",
      "step 276, training accuracy 0.07\n",
      "step 277, training accuracy 0.11\n",
      "step 278, training accuracy 0.1\n",
      "step 279, training accuracy 0.11\n",
      "step 280, training accuracy 0.11\n",
      "step 281, training accuracy 0.11\n",
      "step 282, training accuracy 0.12\n",
      "step 283, training accuracy 0.1\n",
      "step 284, training accuracy 0.12\n",
      "step 285, training accuracy 0.14\n",
      "step 286, training accuracy 0.1\n",
      "step 287, training accuracy 0.14\n",
      "step 288, training accuracy 0.13\n",
      "step 289, training accuracy 0.08\n",
      "step 290, training accuracy 0.11\n",
      "step 291, training accuracy 0.12\n",
      "step 292, training accuracy 0.08\n",
      "step 293, training accuracy 0.12\n",
      "step 294, training accuracy 0.09\n",
      "step 295, training accuracy 0.1\n",
      "step 296, training accuracy 0.19\n",
      "step 297, training accuracy 0.11\n",
      "step 298, training accuracy 0.08\n",
      "step 299, training accuracy 0.05\n",
      "step 300, training accuracy 0.11\n",
      "step 301, training accuracy 0.13\n",
      "step 302, training accuracy 0.11\n",
      "step 303, training accuracy 0.1\n",
      "step 304, training accuracy 0.09\n",
      "step 305, training accuracy 0.14\n",
      "step 306, training accuracy 0.05\n",
      "step 307, training accuracy 0.1\n",
      "step 308, training accuracy 0.1\n",
      "step 309, training accuracy 0.11\n",
      "step 310, training accuracy 0.1\n",
      "step 311, training accuracy 0.12\n",
      "step 312, training accuracy 0.08\n",
      "step 313, training accuracy 0.16\n",
      "step 314, training accuracy 0.15\n",
      "step 315, training accuracy 0.09\n",
      "step 316, training accuracy 0.1\n",
      "step 317, training accuracy 0.09\n",
      "step 318, training accuracy 0.14\n",
      "step 319, training accuracy 0.11\n",
      "step 320, training accuracy 0.08\n",
      "step 321, training accuracy 0.15\n",
      "step 322, training accuracy 0.12\n",
      "step 323, training accuracy 0.15\n",
      "step 324, training accuracy 0.17\n",
      "step 325, training accuracy 0.15\n",
      "step 326, training accuracy 0.09\n",
      "step 327, training accuracy 0.12\n",
      "step 328, training accuracy 0.1\n",
      "step 329, training accuracy 0.12\n",
      "step 330, training accuracy 0.1\n",
      "step 331, training accuracy 0.19\n",
      "step 332, training accuracy 0.13\n",
      "step 333, training accuracy 0.06\n",
      "step 334, training accuracy 0.11\n",
      "step 335, training accuracy 0.18\n",
      "step 336, training accuracy 0.13\n",
      "step 337, training accuracy 0.12\n",
      "step 338, training accuracy 0.14\n",
      "step 339, training accuracy 0.1\n",
      "step 340, training accuracy 0.17\n",
      "step 341, training accuracy 0.14\n",
      "step 342, training accuracy 0.1\n",
      "step 343, training accuracy 0.15\n",
      "step 344, training accuracy 0.17\n",
      "step 345, training accuracy 0.17\n",
      "step 346, training accuracy 0.12\n",
      "step 347, training accuracy 0.2\n",
      "step 348, training accuracy 0.12\n",
      "step 349, training accuracy 0.1\n",
      "step 350, training accuracy 0.06\n",
      "step 351, training accuracy 0.1\n",
      "step 352, training accuracy 0.11\n",
      "step 353, training accuracy 0.07\n",
      "step 354, training accuracy 0.14\n",
      "step 355, training accuracy 0.16\n",
      "step 356, training accuracy 0.16\n",
      "step 357, training accuracy 0.18\n",
      "step 358, training accuracy 0.11\n",
      "step 359, training accuracy 0.05\n",
      "step 360, training accuracy 0.16\n",
      "step 361, training accuracy 0.08\n",
      "step 362, training accuracy 0.1\n",
      "step 363, training accuracy 0.08\n",
      "step 364, training accuracy 0.15\n",
      "step 365, training accuracy 0.16\n",
      "step 366, training accuracy 0.16\n",
      "step 367, training accuracy 0.21\n",
      "step 368, training accuracy 0.08\n",
      "step 369, training accuracy 0.17\n",
      "step 370, training accuracy 0.16\n",
      "step 371, training accuracy 0.13\n",
      "step 372, training accuracy 0.22\n",
      "step 373, training accuracy 0.17\n",
      "step 374, training accuracy 0.18\n",
      "step 375, training accuracy 0.2\n",
      "step 376, training accuracy 0.13\n",
      "step 377, training accuracy 0.1\n",
      "step 378, training accuracy 0.17\n",
      "step 379, training accuracy 0.11\n",
      "step 380, training accuracy 0.15\n",
      "step 381, training accuracy 0.1\n",
      "step 382, training accuracy 0.14\n",
      "step 383, training accuracy 0.2\n",
      "step 384, training accuracy 0.12\n",
      "step 385, training accuracy 0.1\n",
      "step 386, training accuracy 0.14\n",
      "step 387, training accuracy 0.11\n",
      "step 388, training accuracy 0.13\n",
      "step 389, training accuracy 0.1\n",
      "step 390, training accuracy 0.11\n",
      "step 391, training accuracy 0.22\n",
      "step 392, training accuracy 0.12\n",
      "step 393, training accuracy 0.16\n",
      "step 394, training accuracy 0.16\n",
      "step 395, training accuracy 0.13\n",
      "step 396, training accuracy 0.14\n",
      "step 397, training accuracy 0.17\n",
      "step 398, training accuracy 0.14\n",
      "step 399, training accuracy 0.17\n",
      "step 400, training accuracy 0.11\n",
      "step 401, training accuracy 0.17\n",
      "step 402, training accuracy 0.15\n",
      "step 403, training accuracy 0.16\n",
      "step 404, training accuracy 0.15\n",
      "step 405, training accuracy 0.15\n",
      "step 406, training accuracy 0.17\n",
      "step 407, training accuracy 0.14\n",
      "step 408, training accuracy 0.17\n",
      "step 409, training accuracy 0.16\n",
      "step 410, training accuracy 0.19\n",
      "step 411, training accuracy 0.1\n",
      "step 412, training accuracy 0.12\n",
      "step 413, training accuracy 0.16\n",
      "step 414, training accuracy 0.17\n",
      "step 415, training accuracy 0.19\n",
      "step 416, training accuracy 0.1\n",
      "step 417, training accuracy 0.11\n",
      "step 418, training accuracy 0.2\n",
      "step 419, training accuracy 0.15\n",
      "step 420, training accuracy 0.15\n",
      "step 421, training accuracy 0.11\n",
      "step 422, training accuracy 0.1\n",
      "step 423, training accuracy 0.15\n",
      "step 424, training accuracy 0.13\n",
      "step 425, training accuracy 0.16\n",
      "step 426, training accuracy 0.16\n",
      "step 427, training accuracy 0.16\n",
      "step 428, training accuracy 0.12\n",
      "step 429, training accuracy 0.17\n",
      "step 430, training accuracy 0.16\n",
      "step 431, training accuracy 0.21\n",
      "step 432, training accuracy 0.2\n",
      "step 433, training accuracy 0.25\n",
      "step 434, training accuracy 0.18\n",
      "step 435, training accuracy 0.12\n",
      "step 436, training accuracy 0.17\n",
      "step 437, training accuracy 0.18\n",
      "step 438, training accuracy 0.1\n",
      "step 439, training accuracy 0.16\n",
      "step 440, training accuracy 0.09\n",
      "step 441, training accuracy 0.17\n",
      "step 442, training accuracy 0.2\n",
      "step 443, training accuracy 0.09\n",
      "step 444, training accuracy 0.16\n",
      "step 445, training accuracy 0.22\n",
      "step 446, training accuracy 0.14\n",
      "step 447, training accuracy 0.13\n",
      "step 448, training accuracy 0.16\n",
      "step 449, training accuracy 0.23\n",
      "step 450, training accuracy 0.13\n",
      "step 451, training accuracy 0.2\n",
      "step 452, training accuracy 0.22\n",
      "step 453, training accuracy 0.12\n",
      "step 454, training accuracy 0.16\n",
      "step 455, training accuracy 0.18\n",
      "step 456, training accuracy 0.13\n",
      "step 457, training accuracy 0.23\n",
      "step 458, training accuracy 0.13\n",
      "step 459, training accuracy 0.13\n",
      "step 460, training accuracy 0.18\n",
      "step 461, training accuracy 0.11\n",
      "step 462, training accuracy 0.18\n",
      "step 463, training accuracy 0.18\n",
      "step 464, training accuracy 0.2\n",
      "step 465, training accuracy 0.18\n",
      "step 466, training accuracy 0.18\n",
      "step 467, training accuracy 0.09\n",
      "step 468, training accuracy 0.15\n",
      "step 469, training accuracy 0.17\n",
      "step 470, training accuracy 0.15\n",
      "step 471, training accuracy 0.11\n",
      "step 472, training accuracy 0.24\n",
      "step 473, training accuracy 0.2\n",
      "step 474, training accuracy 0.13\n",
      "step 475, training accuracy 0.16\n",
      "step 476, training accuracy 0.21\n",
      "step 477, training accuracy 0.2\n",
      "step 478, training accuracy 0.11\n",
      "step 479, training accuracy 0.18\n",
      "step 480, training accuracy 0.24\n",
      "step 481, training accuracy 0.18\n",
      "step 482, training accuracy 0.16\n",
      "step 483, training accuracy 0.15\n",
      "step 484, training accuracy 0.17\n",
      "step 485, training accuracy 0.22\n",
      "step 486, training accuracy 0.17\n",
      "step 487, training accuracy 0.21\n",
      "step 488, training accuracy 0.19\n",
      "step 489, training accuracy 0.2\n",
      "step 490, training accuracy 0.15\n",
      "step 491, training accuracy 0.17\n",
      "step 492, training accuracy 0.2\n",
      "step 493, training accuracy 0.2\n",
      "step 494, training accuracy 0.18\n",
      "step 495, training accuracy 0.23\n",
      "step 496, training accuracy 0.19\n",
      "step 497, training accuracy 0.16\n",
      "step 498, training accuracy 0.2\n",
      "step 499, training accuracy 0.17\n",
      "test accuracy 0.178571\n"
     ]
    }
   ],
   "source": [
    "smallest_21 = []\n",
    "cross_entropy = tf.reduce_mean(-tf.reduce_sum(y_ * tf.log((y_conv)), reduction_indices=[1]))\n",
    "train_step = tf.train.AdamOptimizer(1e-4).minimize(cross_entropy)\n",
    "correct_prediction = tf.equal(tf.argmax(y_conv,1), tf.argmax(y_,1))\n",
    "accuracy = tf.reduce_mean(tf.cast(correct_prediction, tf.float32))\n",
    "sess.run(tf.initialize_all_variables())\n",
    "\n",
    "for i in range(500):\n",
    "    batch = mnist.next_batch(100)\n",
    "  \n",
    "    train_accuracy = accuracy.eval(feed_dict={x:batch[0], y_: batch[1], keep_prob: 1.0})\n",
    "    smallest_21.append(train_accuracy)\n",
    "    print(\"step %d, training accuracy %g\"%(i, train_accuracy))\n",
    "    train_step.run(feed_dict={x: batch[0], y_: batch[1], keep_prob: 0.5})\n",
    "\n",
    "print(\"test accuracy %g\"%accuracy.eval(feed_dict={\n",
    "    x: mnist.images, y_: mnist.labels, keep_prob: 1.0}))"
   ]
  },
  {
   "cell_type": "code",
   "execution_count": 15,
   "metadata": {
    "collapsed": false
   },
   "outputs": [],
   "source": [
    "np.save('small_21.npy', smallest_21)"
   ]
  },
  {
   "cell_type": "code",
   "execution_count": null,
   "metadata": {
    "collapsed": false
   },
   "outputs": [],
   "source": [
    "normal_three"
   ]
  },
  {
   "cell_type": "code",
   "execution_count": 45,
   "metadata": {
    "collapsed": false
   },
   "outputs": [
    {
     "name": "stdout",
     "output_type": "stream",
     "text": [
      "accuracy"
     ]
    },
    {
     "ename": "InvalidArgumentError",
     "evalue": "You must feed a value for placeholder tensor 'Placeholder_5' with dtype float\n\t [[Node: Placeholder_5 = Placeholder[dtype=DT_FLOAT, shape=[], _device=\"/job:localhost/replica:0/task:0/cpu:0\"]()]]\nCaused by op u'Placeholder_5', defined at:\n  File \"/Applications/anaconda/envs/tensorflow/lib/python2.7/runpy.py\", line 162, in _run_module_as_main\n    \"__main__\", fname, loader, pkg_name)\n  File \"/Applications/anaconda/envs/tensorflow/lib/python2.7/runpy.py\", line 72, in _run_code\n    exec code in run_globals\n  File \"/Applications/anaconda/envs/tensorflow/lib/python2.7/site-packages/ipykernel/__main__.py\", line 3, in <module>\n    app.launch_new_instance()\n  File \"/Applications/anaconda/envs/tensorflow/lib/python2.7/site-packages/traitlets/config/application.py\", line 596, in launch_instance\n    app.start()\n  File \"/Applications/anaconda/envs/tensorflow/lib/python2.7/site-packages/ipykernel/kernelapp.py\", line 442, in start\n    ioloop.IOLoop.instance().start()\n  File \"/Applications/anaconda/envs/tensorflow/lib/python2.7/site-packages/zmq/eventloop/ioloop.py\", line 162, in start\n    super(ZMQIOLoop, self).start()\n  File \"/Applications/anaconda/envs/tensorflow/lib/python2.7/site-packages/tornado/ioloop.py\", line 883, in start\n    handler_func(fd_obj, events)\n  File \"/Applications/anaconda/envs/tensorflow/lib/python2.7/site-packages/tornado/stack_context.py\", line 275, in null_wrapper\n    return fn(*args, **kwargs)\n  File \"/Applications/anaconda/envs/tensorflow/lib/python2.7/site-packages/zmq/eventloop/zmqstream.py\", line 440, in _handle_events\n    self._handle_recv()\n  File \"/Applications/anaconda/envs/tensorflow/lib/python2.7/site-packages/zmq/eventloop/zmqstream.py\", line 472, in _handle_recv\n    self._run_callback(callback, msg)\n  File \"/Applications/anaconda/envs/tensorflow/lib/python2.7/site-packages/zmq/eventloop/zmqstream.py\", line 414, in _run_callback\n    callback(*args, **kwargs)\n  File \"/Applications/anaconda/envs/tensorflow/lib/python2.7/site-packages/tornado/stack_context.py\", line 275, in null_wrapper\n    return fn(*args, **kwargs)\n  File \"/Applications/anaconda/envs/tensorflow/lib/python2.7/site-packages/ipykernel/kernelbase.py\", line 276, in dispatcher\n    return self.dispatch_shell(stream, msg)\n  File \"/Applications/anaconda/envs/tensorflow/lib/python2.7/site-packages/ipykernel/kernelbase.py\", line 228, in dispatch_shell\n    handler(stream, idents, msg)\n  File \"/Applications/anaconda/envs/tensorflow/lib/python2.7/site-packages/ipykernel/kernelbase.py\", line 391, in execute_request\n    user_expressions, allow_stdin)\n  File \"/Applications/anaconda/envs/tensorflow/lib/python2.7/site-packages/ipykernel/ipkernel.py\", line 199, in do_execute\n    shell.run_cell(code, store_history=store_history, silent=silent)\n  File \"/Applications/anaconda/envs/tensorflow/lib/python2.7/site-packages/IPython/core/interactiveshell.py\", line 2723, in run_cell\n    interactivity=interactivity, compiler=compiler, result=result)\n  File \"/Applications/anaconda/envs/tensorflow/lib/python2.7/site-packages/IPython/core/interactiveshell.py\", line 2825, in run_ast_nodes\n    if self.run_code(code, result):\n  File \"/Applications/anaconda/envs/tensorflow/lib/python2.7/site-packages/IPython/core/interactiveshell.py\", line 2885, in run_code\n    exec(code_obj, self.user_global_ns, self.user_ns)\n  File \"<ipython-input-24-ba01259f6865>\", line 1, in <module>\n    keep_prob = tf.placeholder(tf.float32)\n  File \"/Applications/anaconda/envs/tensorflow/lib/python2.7/site-packages/tensorflow/python/ops/array_ops.py\", line 762, in placeholder\n    name=name)\n  File \"/Applications/anaconda/envs/tensorflow/lib/python2.7/site-packages/tensorflow/python/ops/gen_array_ops.py\", line 976, in _placeholder\n    name=name)\n  File \"/Applications/anaconda/envs/tensorflow/lib/python2.7/site-packages/tensorflow/python/ops/op_def_library.py\", line 655, in apply_op\n    op_def=op_def)\n  File \"/Applications/anaconda/envs/tensorflow/lib/python2.7/site-packages/tensorflow/python/framework/ops.py\", line 2154, in create_op\n    original_op=self._default_original_op, op_def=op_def)\n  File \"/Applications/anaconda/envs/tensorflow/lib/python2.7/site-packages/tensorflow/python/framework/ops.py\", line 1154, in __init__\n    self._traceback = _extract_stack()\n",
     "output_type": "error",
     "traceback": [
      "\u001b[0;31m---------------------------------------------------------------------------\u001b[0m",
      "\u001b[0;31mInvalidArgumentError\u001b[0m                      Traceback (most recent call last)",
      "\u001b[0;32m<ipython-input-45-8247d4289723>\u001b[0m in \u001b[0;36m<module>\u001b[0;34m()\u001b[0m\n\u001b[0;32m----> 1\u001b[0;31m \u001b[0;32mprint\u001b[0m \u001b[0;34m\"accuracy\"\u001b[0m\u001b[0;34m,\u001b[0m \u001b[0msess\u001b[0m\u001b[0;34m.\u001b[0m\u001b[0mrun\u001b[0m\u001b[0;34m(\u001b[0m\u001b[0maccuracy\u001b[0m\u001b[0;34m,\u001b[0m \u001b[0mfeed_dict\u001b[0m\u001b[0;34m=\u001b[0m\u001b[0;34m{\u001b[0m\u001b[0mx\u001b[0m\u001b[0;34m:\u001b[0m \u001b[0mmnist\u001b[0m\u001b[0;34m.\u001b[0m\u001b[0mimages\u001b[0m\u001b[0;34m,\u001b[0m \u001b[0my_\u001b[0m\u001b[0;34m:\u001b[0m \u001b[0mmnist\u001b[0m\u001b[0;34m.\u001b[0m\u001b[0mlabels\u001b[0m\u001b[0;34m}\u001b[0m\u001b[0;34m)\u001b[0m\u001b[0;34m\u001b[0m\u001b[0m\n\u001b[0m\u001b[1;32m      2\u001b[0m \u001b[0mprediction\u001b[0m\u001b[0;34m=\u001b[0m\u001b[0mtf\u001b[0m\u001b[0;34m.\u001b[0m\u001b[0margmax\u001b[0m\u001b[0;34m(\u001b[0m\u001b[0my_\u001b[0m\u001b[0;34m,\u001b[0m\u001b[0;36m1\u001b[0m\u001b[0;34m)\u001b[0m\u001b[0;34m\u001b[0m\u001b[0m\n\u001b[1;32m      3\u001b[0m \u001b[0;32mprint\u001b[0m \u001b[0;34m\"predictions\"\u001b[0m\u001b[0;34m,\u001b[0m \u001b[0mprediction\u001b[0m\u001b[0;34m.\u001b[0m\u001b[0meval\u001b[0m\u001b[0;34m(\u001b[0m\u001b[0mfeed_dict\u001b[0m\u001b[0;34m=\u001b[0m\u001b[0;34m{\u001b[0m\u001b[0mx\u001b[0m\u001b[0;34m:\u001b[0m \u001b[0mmnist\u001b[0m\u001b[0;34m.\u001b[0m\u001b[0mimages\u001b[0m\u001b[0;34m}\u001b[0m\u001b[0;34m,\u001b[0m \u001b[0msession\u001b[0m\u001b[0;34m=\u001b[0m\u001b[0msess\u001b[0m\u001b[0;34m)\u001b[0m\u001b[0;34m\u001b[0m\u001b[0m\n",
      "\u001b[0;32m/Applications/anaconda/envs/tensorflow/lib/python2.7/site-packages/tensorflow/python/client/session.pyc\u001b[0m in \u001b[0;36mrun\u001b[0;34m(self, fetches, feed_dict, options, run_metadata)\u001b[0m\n\u001b[1;32m    338\u001b[0m     \u001b[0;32mtry\u001b[0m\u001b[0;34m:\u001b[0m\u001b[0;34m\u001b[0m\u001b[0m\n\u001b[1;32m    339\u001b[0m       result = self._run(None, fetches, feed_dict, options_ptr,\n\u001b[0;32m--> 340\u001b[0;31m                          run_metadata_ptr)\n\u001b[0m\u001b[1;32m    341\u001b[0m       \u001b[0;32mif\u001b[0m \u001b[0mrun_metadata\u001b[0m\u001b[0;34m:\u001b[0m\u001b[0;34m\u001b[0m\u001b[0m\n\u001b[1;32m    342\u001b[0m         \u001b[0mproto_data\u001b[0m \u001b[0;34m=\u001b[0m \u001b[0mtf_session\u001b[0m\u001b[0;34m.\u001b[0m\u001b[0mTF_GetBuffer\u001b[0m\u001b[0;34m(\u001b[0m\u001b[0mrun_metadata_ptr\u001b[0m\u001b[0;34m)\u001b[0m\u001b[0;34m\u001b[0m\u001b[0m\n",
      "\u001b[0;32m/Applications/anaconda/envs/tensorflow/lib/python2.7/site-packages/tensorflow/python/client/session.pyc\u001b[0m in \u001b[0;36m_run\u001b[0;34m(self, handle, fetches, feed_dict, options, run_metadata)\u001b[0m\n\u001b[1;32m    562\u001b[0m     \u001b[0;32mtry\u001b[0m\u001b[0;34m:\u001b[0m\u001b[0;34m\u001b[0m\u001b[0m\n\u001b[1;32m    563\u001b[0m       results = self._do_run(handle, target_list, unique_fetches,\n\u001b[0;32m--> 564\u001b[0;31m                              feed_dict_string, options, run_metadata)\n\u001b[0m\u001b[1;32m    565\u001b[0m     \u001b[0;32mfinally\u001b[0m\u001b[0;34m:\u001b[0m\u001b[0;34m\u001b[0m\u001b[0m\n\u001b[1;32m    566\u001b[0m       \u001b[0;31m# The movers are no longer used. Delete them.\u001b[0m\u001b[0;34m\u001b[0m\u001b[0;34m\u001b[0m\u001b[0m\n",
      "\u001b[0;32m/Applications/anaconda/envs/tensorflow/lib/python2.7/site-packages/tensorflow/python/client/session.pyc\u001b[0m in \u001b[0;36m_do_run\u001b[0;34m(self, handle, target_list, fetch_list, feed_dict, options, run_metadata)\u001b[0m\n\u001b[1;32m    635\u001b[0m     \u001b[0;32mif\u001b[0m \u001b[0mhandle\u001b[0m \u001b[0;32mis\u001b[0m \u001b[0mNone\u001b[0m\u001b[0;34m:\u001b[0m\u001b[0;34m\u001b[0m\u001b[0m\n\u001b[1;32m    636\u001b[0m       return self._do_call(_run_fn, self._session, feed_dict, fetch_list,\n\u001b[0;32m--> 637\u001b[0;31m                            target_list, options, run_metadata)\n\u001b[0m\u001b[1;32m    638\u001b[0m     \u001b[0;32melse\u001b[0m\u001b[0;34m:\u001b[0m\u001b[0;34m\u001b[0m\u001b[0m\n\u001b[1;32m    639\u001b[0m       return self._do_call(_prun_fn, self._session, handle, feed_dict,\n",
      "\u001b[0;32m/Applications/anaconda/envs/tensorflow/lib/python2.7/site-packages/tensorflow/python/client/session.pyc\u001b[0m in \u001b[0;36m_do_call\u001b[0;34m(self, fn, *args)\u001b[0m\n\u001b[1;32m    657\u001b[0m       \u001b[0;31m# pylint: disable=protected-access\u001b[0m\u001b[0;34m\u001b[0m\u001b[0;34m\u001b[0m\u001b[0m\n\u001b[1;32m    658\u001b[0m       raise errors._make_specific_exception(node_def, op, error_message,\n\u001b[0;32m--> 659\u001b[0;31m                                             e.code)\n\u001b[0m\u001b[1;32m    660\u001b[0m       \u001b[0;31m# pylint: enable=protected-access\u001b[0m\u001b[0;34m\u001b[0m\u001b[0;34m\u001b[0m\u001b[0m\n\u001b[1;32m    661\u001b[0m \u001b[0;34m\u001b[0m\u001b[0m\n",
      "\u001b[0;31mInvalidArgumentError\u001b[0m: You must feed a value for placeholder tensor 'Placeholder_5' with dtype float\n\t [[Node: Placeholder_5 = Placeholder[dtype=DT_FLOAT, shape=[], _device=\"/job:localhost/replica:0/task:0/cpu:0\"]()]]\nCaused by op u'Placeholder_5', defined at:\n  File \"/Applications/anaconda/envs/tensorflow/lib/python2.7/runpy.py\", line 162, in _run_module_as_main\n    \"__main__\", fname, loader, pkg_name)\n  File \"/Applications/anaconda/envs/tensorflow/lib/python2.7/runpy.py\", line 72, in _run_code\n    exec code in run_globals\n  File \"/Applications/anaconda/envs/tensorflow/lib/python2.7/site-packages/ipykernel/__main__.py\", line 3, in <module>\n    app.launch_new_instance()\n  File \"/Applications/anaconda/envs/tensorflow/lib/python2.7/site-packages/traitlets/config/application.py\", line 596, in launch_instance\n    app.start()\n  File \"/Applications/anaconda/envs/tensorflow/lib/python2.7/site-packages/ipykernel/kernelapp.py\", line 442, in start\n    ioloop.IOLoop.instance().start()\n  File \"/Applications/anaconda/envs/tensorflow/lib/python2.7/site-packages/zmq/eventloop/ioloop.py\", line 162, in start\n    super(ZMQIOLoop, self).start()\n  File \"/Applications/anaconda/envs/tensorflow/lib/python2.7/site-packages/tornado/ioloop.py\", line 883, in start\n    handler_func(fd_obj, events)\n  File \"/Applications/anaconda/envs/tensorflow/lib/python2.7/site-packages/tornado/stack_context.py\", line 275, in null_wrapper\n    return fn(*args, **kwargs)\n  File \"/Applications/anaconda/envs/tensorflow/lib/python2.7/site-packages/zmq/eventloop/zmqstream.py\", line 440, in _handle_events\n    self._handle_recv()\n  File \"/Applications/anaconda/envs/tensorflow/lib/python2.7/site-packages/zmq/eventloop/zmqstream.py\", line 472, in _handle_recv\n    self._run_callback(callback, msg)\n  File \"/Applications/anaconda/envs/tensorflow/lib/python2.7/site-packages/zmq/eventloop/zmqstream.py\", line 414, in _run_callback\n    callback(*args, **kwargs)\n  File \"/Applications/anaconda/envs/tensorflow/lib/python2.7/site-packages/tornado/stack_context.py\", line 275, in null_wrapper\n    return fn(*args, **kwargs)\n  File \"/Applications/anaconda/envs/tensorflow/lib/python2.7/site-packages/ipykernel/kernelbase.py\", line 276, in dispatcher\n    return self.dispatch_shell(stream, msg)\n  File \"/Applications/anaconda/envs/tensorflow/lib/python2.7/site-packages/ipykernel/kernelbase.py\", line 228, in dispatch_shell\n    handler(stream, idents, msg)\n  File \"/Applications/anaconda/envs/tensorflow/lib/python2.7/site-packages/ipykernel/kernelbase.py\", line 391, in execute_request\n    user_expressions, allow_stdin)\n  File \"/Applications/anaconda/envs/tensorflow/lib/python2.7/site-packages/ipykernel/ipkernel.py\", line 199, in do_execute\n    shell.run_cell(code, store_history=store_history, silent=silent)\n  File \"/Applications/anaconda/envs/tensorflow/lib/python2.7/site-packages/IPython/core/interactiveshell.py\", line 2723, in run_cell\n    interactivity=interactivity, compiler=compiler, result=result)\n  File \"/Applications/anaconda/envs/tensorflow/lib/python2.7/site-packages/IPython/core/interactiveshell.py\", line 2825, in run_ast_nodes\n    if self.run_code(code, result):\n  File \"/Applications/anaconda/envs/tensorflow/lib/python2.7/site-packages/IPython/core/interactiveshell.py\", line 2885, in run_code\n    exec(code_obj, self.user_global_ns, self.user_ns)\n  File \"<ipython-input-24-ba01259f6865>\", line 1, in <module>\n    keep_prob = tf.placeholder(tf.float32)\n  File \"/Applications/anaconda/envs/tensorflow/lib/python2.7/site-packages/tensorflow/python/ops/array_ops.py\", line 762, in placeholder\n    name=name)\n  File \"/Applications/anaconda/envs/tensorflow/lib/python2.7/site-packages/tensorflow/python/ops/gen_array_ops.py\", line 976, in _placeholder\n    name=name)\n  File \"/Applications/anaconda/envs/tensorflow/lib/python2.7/site-packages/tensorflow/python/ops/op_def_library.py\", line 655, in apply_op\n    op_def=op_def)\n  File \"/Applications/anaconda/envs/tensorflow/lib/python2.7/site-packages/tensorflow/python/framework/ops.py\", line 2154, in create_op\n    original_op=self._default_original_op, op_def=op_def)\n  File \"/Applications/anaconda/envs/tensorflow/lib/python2.7/site-packages/tensorflow/python/framework/ops.py\", line 1154, in __init__\n    self._traceback = _extract_stack()\n"
     ]
    }
   ],
   "source": [
    "print \"accuracy\", sess.run(accuracy, feed_dict={x: mnist.images, y_: mnist.labels})\n",
    "prediction=tf.argmax(y_,1)\n",
    "print \"predictions\", prediction.eval(feed_dict={x: mnist.images}, session=sess)"
   ]
  },
  {
   "cell_type": "code",
   "execution_count": 31,
   "metadata": {
    "collapsed": false
   },
   "outputs": [
    {
     "name": "stdout",
     "output_type": "stream",
     "text": [
      "None\n"
     ]
    }
   ],
   "source": [
    "print train_step.run(feed_dict={x: batch[0], y_: batch[1], keep_prob: 0.5})"
   ]
  },
  {
   "cell_type": "code",
   "execution_count": 44,
   "metadata": {
    "collapsed": false
   },
   "outputs": [
    {
     "name": "stdout",
     "output_type": "stream",
     "text": [
      "accuracy\n"
     ]
    },
    {
     "ename": "InvalidArgumentError",
     "evalue": "You must feed a value for placeholder tensor 'Placeholder_5' with dtype float\n\t [[Node: Placeholder_5 = Placeholder[dtype=DT_FLOAT, shape=[], _device=\"/job:localhost/replica:0/task:0/cpu:0\"]()]]\nCaused by op u'Placeholder_5', defined at:\n  File \"/Applications/anaconda/envs/tensorflow/lib/python2.7/runpy.py\", line 162, in _run_module_as_main\n    \"__main__\", fname, loader, pkg_name)\n  File \"/Applications/anaconda/envs/tensorflow/lib/python2.7/runpy.py\", line 72, in _run_code\n    exec code in run_globals\n  File \"/Applications/anaconda/envs/tensorflow/lib/python2.7/site-packages/ipykernel/__main__.py\", line 3, in <module>\n    app.launch_new_instance()\n  File \"/Applications/anaconda/envs/tensorflow/lib/python2.7/site-packages/traitlets/config/application.py\", line 596, in launch_instance\n    app.start()\n  File \"/Applications/anaconda/envs/tensorflow/lib/python2.7/site-packages/ipykernel/kernelapp.py\", line 442, in start\n    ioloop.IOLoop.instance().start()\n  File \"/Applications/anaconda/envs/tensorflow/lib/python2.7/site-packages/zmq/eventloop/ioloop.py\", line 162, in start\n    super(ZMQIOLoop, self).start()\n  File \"/Applications/anaconda/envs/tensorflow/lib/python2.7/site-packages/tornado/ioloop.py\", line 883, in start\n    handler_func(fd_obj, events)\n  File \"/Applications/anaconda/envs/tensorflow/lib/python2.7/site-packages/tornado/stack_context.py\", line 275, in null_wrapper\n    return fn(*args, **kwargs)\n  File \"/Applications/anaconda/envs/tensorflow/lib/python2.7/site-packages/zmq/eventloop/zmqstream.py\", line 440, in _handle_events\n    self._handle_recv()\n  File \"/Applications/anaconda/envs/tensorflow/lib/python2.7/site-packages/zmq/eventloop/zmqstream.py\", line 472, in _handle_recv\n    self._run_callback(callback, msg)\n  File \"/Applications/anaconda/envs/tensorflow/lib/python2.7/site-packages/zmq/eventloop/zmqstream.py\", line 414, in _run_callback\n    callback(*args, **kwargs)\n  File \"/Applications/anaconda/envs/tensorflow/lib/python2.7/site-packages/tornado/stack_context.py\", line 275, in null_wrapper\n    return fn(*args, **kwargs)\n  File \"/Applications/anaconda/envs/tensorflow/lib/python2.7/site-packages/ipykernel/kernelbase.py\", line 276, in dispatcher\n    return self.dispatch_shell(stream, msg)\n  File \"/Applications/anaconda/envs/tensorflow/lib/python2.7/site-packages/ipykernel/kernelbase.py\", line 228, in dispatch_shell\n    handler(stream, idents, msg)\n  File \"/Applications/anaconda/envs/tensorflow/lib/python2.7/site-packages/ipykernel/kernelbase.py\", line 391, in execute_request\n    user_expressions, allow_stdin)\n  File \"/Applications/anaconda/envs/tensorflow/lib/python2.7/site-packages/ipykernel/ipkernel.py\", line 199, in do_execute\n    shell.run_cell(code, store_history=store_history, silent=silent)\n  File \"/Applications/anaconda/envs/tensorflow/lib/python2.7/site-packages/IPython/core/interactiveshell.py\", line 2723, in run_cell\n    interactivity=interactivity, compiler=compiler, result=result)\n  File \"/Applications/anaconda/envs/tensorflow/lib/python2.7/site-packages/IPython/core/interactiveshell.py\", line 2825, in run_ast_nodes\n    if self.run_code(code, result):\n  File \"/Applications/anaconda/envs/tensorflow/lib/python2.7/site-packages/IPython/core/interactiveshell.py\", line 2885, in run_code\n    exec(code_obj, self.user_global_ns, self.user_ns)\n  File \"<ipython-input-24-ba01259f6865>\", line 1, in <module>\n    keep_prob = tf.placeholder(tf.float32)\n  File \"/Applications/anaconda/envs/tensorflow/lib/python2.7/site-packages/tensorflow/python/ops/array_ops.py\", line 762, in placeholder\n    name=name)\n  File \"/Applications/anaconda/envs/tensorflow/lib/python2.7/site-packages/tensorflow/python/ops/gen_array_ops.py\", line 976, in _placeholder\n    name=name)\n  File \"/Applications/anaconda/envs/tensorflow/lib/python2.7/site-packages/tensorflow/python/ops/op_def_library.py\", line 655, in apply_op\n    op_def=op_def)\n  File \"/Applications/anaconda/envs/tensorflow/lib/python2.7/site-packages/tensorflow/python/framework/ops.py\", line 2154, in create_op\n    original_op=self._default_original_op, op_def=op_def)\n  File \"/Applications/anaconda/envs/tensorflow/lib/python2.7/site-packages/tensorflow/python/framework/ops.py\", line 1154, in __init__\n    self._traceback = _extract_stack()\n",
     "output_type": "error",
     "traceback": [
      "\u001b[0;31m---------------------------------------------------------------------------\u001b[0m",
      "\u001b[0;31mInvalidArgumentError\u001b[0m                      Traceback (most recent call last)",
      "\u001b[0;32m<ipython-input-44-23d607ffa117>\u001b[0m in \u001b[0;36m<module>\u001b[0;34m()\u001b[0m\n\u001b[1;32m      1\u001b[0m \u001b[0;32mprint\u001b[0m \u001b[0;34m\"accuracy\"\u001b[0m\u001b[0;34m\u001b[0m\u001b[0m\n\u001b[0;32m----> 2\u001b[0;31m \u001b[0msess\u001b[0m\u001b[0;34m.\u001b[0m\u001b[0mrun\u001b[0m\u001b[0;34m(\u001b[0m\u001b[0maccuracy\u001b[0m\u001b[0;34m,\u001b[0m \u001b[0mfeed_dict\u001b[0m\u001b[0;34m=\u001b[0m\u001b[0;34m{\u001b[0m\u001b[0mx\u001b[0m\u001b[0;34m:\u001b[0m \u001b[0mbatch\u001b[0m\u001b[0;34m[\u001b[0m\u001b[0;36m0\u001b[0m\u001b[0;34m]\u001b[0m\u001b[0;34m,\u001b[0m \u001b[0my_\u001b[0m\u001b[0;34m:\u001b[0m \u001b[0mbatch\u001b[0m\u001b[0;34m[\u001b[0m\u001b[0;36m1\u001b[0m\u001b[0;34m]\u001b[0m\u001b[0;34m}\u001b[0m\u001b[0;34m)\u001b[0m\u001b[0;34m\u001b[0m\u001b[0m\n\u001b[0m\u001b[1;32m      3\u001b[0m \u001b[0mprediction\u001b[0m\u001b[0;34m=\u001b[0m\u001b[0mtf\u001b[0m\u001b[0;34m.\u001b[0m\u001b[0margmax\u001b[0m\u001b[0;34m(\u001b[0m\u001b[0my\u001b[0m\u001b[0;34m,\u001b[0m\u001b[0;36m1\u001b[0m\u001b[0;34m)\u001b[0m\u001b[0;34m\u001b[0m\u001b[0m\n\u001b[1;32m      4\u001b[0m \u001b[0;32mprint\u001b[0m \u001b[0;34m\"predictions\"\u001b[0m\u001b[0;34m\u001b[0m\u001b[0m\n\u001b[1;32m      5\u001b[0m \u001b[0mprediction\u001b[0m\u001b[0;34m.\u001b[0m\u001b[0meval\u001b[0m\u001b[0;34m(\u001b[0m\u001b[0mfeed_dict\u001b[0m\u001b[0;34m=\u001b[0m\u001b[0;34m{\u001b[0m\u001b[0mx\u001b[0m\u001b[0;34m:\u001b[0m \u001b[0mbatch\u001b[0m\u001b[0;34m[\u001b[0m\u001b[0;36m0\u001b[0m\u001b[0;34m]\u001b[0m\u001b[0;34m}\u001b[0m\u001b[0;34m,\u001b[0m \u001b[0msession\u001b[0m\u001b[0;34m=\u001b[0m\u001b[0msess\u001b[0m\u001b[0;34m)\u001b[0m\u001b[0;34m\u001b[0m\u001b[0m\n",
      "\u001b[0;32m/Applications/anaconda/envs/tensorflow/lib/python2.7/site-packages/tensorflow/python/client/session.pyc\u001b[0m in \u001b[0;36mrun\u001b[0;34m(self, fetches, feed_dict, options, run_metadata)\u001b[0m\n\u001b[1;32m    338\u001b[0m     \u001b[0;32mtry\u001b[0m\u001b[0;34m:\u001b[0m\u001b[0;34m\u001b[0m\u001b[0m\n\u001b[1;32m    339\u001b[0m       result = self._run(None, fetches, feed_dict, options_ptr,\n\u001b[0;32m--> 340\u001b[0;31m                          run_metadata_ptr)\n\u001b[0m\u001b[1;32m    341\u001b[0m       \u001b[0;32mif\u001b[0m \u001b[0mrun_metadata\u001b[0m\u001b[0;34m:\u001b[0m\u001b[0;34m\u001b[0m\u001b[0m\n\u001b[1;32m    342\u001b[0m         \u001b[0mproto_data\u001b[0m \u001b[0;34m=\u001b[0m \u001b[0mtf_session\u001b[0m\u001b[0;34m.\u001b[0m\u001b[0mTF_GetBuffer\u001b[0m\u001b[0;34m(\u001b[0m\u001b[0mrun_metadata_ptr\u001b[0m\u001b[0;34m)\u001b[0m\u001b[0;34m\u001b[0m\u001b[0m\n",
      "\u001b[0;32m/Applications/anaconda/envs/tensorflow/lib/python2.7/site-packages/tensorflow/python/client/session.pyc\u001b[0m in \u001b[0;36m_run\u001b[0;34m(self, handle, fetches, feed_dict, options, run_metadata)\u001b[0m\n\u001b[1;32m    562\u001b[0m     \u001b[0;32mtry\u001b[0m\u001b[0;34m:\u001b[0m\u001b[0;34m\u001b[0m\u001b[0m\n\u001b[1;32m    563\u001b[0m       results = self._do_run(handle, target_list, unique_fetches,\n\u001b[0;32m--> 564\u001b[0;31m                              feed_dict_string, options, run_metadata)\n\u001b[0m\u001b[1;32m    565\u001b[0m     \u001b[0;32mfinally\u001b[0m\u001b[0;34m:\u001b[0m\u001b[0;34m\u001b[0m\u001b[0m\n\u001b[1;32m    566\u001b[0m       \u001b[0;31m# The movers are no longer used. Delete them.\u001b[0m\u001b[0;34m\u001b[0m\u001b[0;34m\u001b[0m\u001b[0m\n",
      "\u001b[0;32m/Applications/anaconda/envs/tensorflow/lib/python2.7/site-packages/tensorflow/python/client/session.pyc\u001b[0m in \u001b[0;36m_do_run\u001b[0;34m(self, handle, target_list, fetch_list, feed_dict, options, run_metadata)\u001b[0m\n\u001b[1;32m    635\u001b[0m     \u001b[0;32mif\u001b[0m \u001b[0mhandle\u001b[0m \u001b[0;32mis\u001b[0m \u001b[0mNone\u001b[0m\u001b[0;34m:\u001b[0m\u001b[0;34m\u001b[0m\u001b[0m\n\u001b[1;32m    636\u001b[0m       return self._do_call(_run_fn, self._session, feed_dict, fetch_list,\n\u001b[0;32m--> 637\u001b[0;31m                            target_list, options, run_metadata)\n\u001b[0m\u001b[1;32m    638\u001b[0m     \u001b[0;32melse\u001b[0m\u001b[0;34m:\u001b[0m\u001b[0;34m\u001b[0m\u001b[0m\n\u001b[1;32m    639\u001b[0m       return self._do_call(_prun_fn, self._session, handle, feed_dict,\n",
      "\u001b[0;32m/Applications/anaconda/envs/tensorflow/lib/python2.7/site-packages/tensorflow/python/client/session.pyc\u001b[0m in \u001b[0;36m_do_call\u001b[0;34m(self, fn, *args)\u001b[0m\n\u001b[1;32m    657\u001b[0m       \u001b[0;31m# pylint: disable=protected-access\u001b[0m\u001b[0;34m\u001b[0m\u001b[0;34m\u001b[0m\u001b[0m\n\u001b[1;32m    658\u001b[0m       raise errors._make_specific_exception(node_def, op, error_message,\n\u001b[0;32m--> 659\u001b[0;31m                                             e.code)\n\u001b[0m\u001b[1;32m    660\u001b[0m       \u001b[0;31m# pylint: enable=protected-access\u001b[0m\u001b[0;34m\u001b[0m\u001b[0;34m\u001b[0m\u001b[0m\n\u001b[1;32m    661\u001b[0m \u001b[0;34m\u001b[0m\u001b[0m\n",
      "\u001b[0;31mInvalidArgumentError\u001b[0m: You must feed a value for placeholder tensor 'Placeholder_5' with dtype float\n\t [[Node: Placeholder_5 = Placeholder[dtype=DT_FLOAT, shape=[], _device=\"/job:localhost/replica:0/task:0/cpu:0\"]()]]\nCaused by op u'Placeholder_5', defined at:\n  File \"/Applications/anaconda/envs/tensorflow/lib/python2.7/runpy.py\", line 162, in _run_module_as_main\n    \"__main__\", fname, loader, pkg_name)\n  File \"/Applications/anaconda/envs/tensorflow/lib/python2.7/runpy.py\", line 72, in _run_code\n    exec code in run_globals\n  File \"/Applications/anaconda/envs/tensorflow/lib/python2.7/site-packages/ipykernel/__main__.py\", line 3, in <module>\n    app.launch_new_instance()\n  File \"/Applications/anaconda/envs/tensorflow/lib/python2.7/site-packages/traitlets/config/application.py\", line 596, in launch_instance\n    app.start()\n  File \"/Applications/anaconda/envs/tensorflow/lib/python2.7/site-packages/ipykernel/kernelapp.py\", line 442, in start\n    ioloop.IOLoop.instance().start()\n  File \"/Applications/anaconda/envs/tensorflow/lib/python2.7/site-packages/zmq/eventloop/ioloop.py\", line 162, in start\n    super(ZMQIOLoop, self).start()\n  File \"/Applications/anaconda/envs/tensorflow/lib/python2.7/site-packages/tornado/ioloop.py\", line 883, in start\n    handler_func(fd_obj, events)\n  File \"/Applications/anaconda/envs/tensorflow/lib/python2.7/site-packages/tornado/stack_context.py\", line 275, in null_wrapper\n    return fn(*args, **kwargs)\n  File \"/Applications/anaconda/envs/tensorflow/lib/python2.7/site-packages/zmq/eventloop/zmqstream.py\", line 440, in _handle_events\n    self._handle_recv()\n  File \"/Applications/anaconda/envs/tensorflow/lib/python2.7/site-packages/zmq/eventloop/zmqstream.py\", line 472, in _handle_recv\n    self._run_callback(callback, msg)\n  File \"/Applications/anaconda/envs/tensorflow/lib/python2.7/site-packages/zmq/eventloop/zmqstream.py\", line 414, in _run_callback\n    callback(*args, **kwargs)\n  File \"/Applications/anaconda/envs/tensorflow/lib/python2.7/site-packages/tornado/stack_context.py\", line 275, in null_wrapper\n    return fn(*args, **kwargs)\n  File \"/Applications/anaconda/envs/tensorflow/lib/python2.7/site-packages/ipykernel/kernelbase.py\", line 276, in dispatcher\n    return self.dispatch_shell(stream, msg)\n  File \"/Applications/anaconda/envs/tensorflow/lib/python2.7/site-packages/ipykernel/kernelbase.py\", line 228, in dispatch_shell\n    handler(stream, idents, msg)\n  File \"/Applications/anaconda/envs/tensorflow/lib/python2.7/site-packages/ipykernel/kernelbase.py\", line 391, in execute_request\n    user_expressions, allow_stdin)\n  File \"/Applications/anaconda/envs/tensorflow/lib/python2.7/site-packages/ipykernel/ipkernel.py\", line 199, in do_execute\n    shell.run_cell(code, store_history=store_history, silent=silent)\n  File \"/Applications/anaconda/envs/tensorflow/lib/python2.7/site-packages/IPython/core/interactiveshell.py\", line 2723, in run_cell\n    interactivity=interactivity, compiler=compiler, result=result)\n  File \"/Applications/anaconda/envs/tensorflow/lib/python2.7/site-packages/IPython/core/interactiveshell.py\", line 2825, in run_ast_nodes\n    if self.run_code(code, result):\n  File \"/Applications/anaconda/envs/tensorflow/lib/python2.7/site-packages/IPython/core/interactiveshell.py\", line 2885, in run_code\n    exec(code_obj, self.user_global_ns, self.user_ns)\n  File \"<ipython-input-24-ba01259f6865>\", line 1, in <module>\n    keep_prob = tf.placeholder(tf.float32)\n  File \"/Applications/anaconda/envs/tensorflow/lib/python2.7/site-packages/tensorflow/python/ops/array_ops.py\", line 762, in placeholder\n    name=name)\n  File \"/Applications/anaconda/envs/tensorflow/lib/python2.7/site-packages/tensorflow/python/ops/gen_array_ops.py\", line 976, in _placeholder\n    name=name)\n  File \"/Applications/anaconda/envs/tensorflow/lib/python2.7/site-packages/tensorflow/python/ops/op_def_library.py\", line 655, in apply_op\n    op_def=op_def)\n  File \"/Applications/anaconda/envs/tensorflow/lib/python2.7/site-packages/tensorflow/python/framework/ops.py\", line 2154, in create_op\n    original_op=self._default_original_op, op_def=op_def)\n  File \"/Applications/anaconda/envs/tensorflow/lib/python2.7/site-packages/tensorflow/python/framework/ops.py\", line 1154, in __init__\n    self._traceback = _extract_stack()\n"
     ]
    }
   ],
   "source": [
    "print \"accuracy\"\n",
    "sess.run(accuracy, feed_dict={x: batch[0], y_: batch[1]})\n",
    "prediction=tf.argmax(y,1)\n",
    "print \"predictions\"\n",
    "prediction.eval(feed_dict={x: batch[0]}, session=sess)"
   ]
  },
  {
   "cell_type": "code",
   "execution_count": 34,
   "metadata": {
    "collapsed": false
   },
   "outputs": [
    {
     "data": {
      "text/plain": [
       "<tf.Tensor 'Mean_11:0' shape=() dtype=float32>"
      ]
     },
     "execution_count": 34,
     "metadata": {},
     "output_type": "execute_result"
    }
   ],
   "source": [
    "accuracy"
   ]
  },
  {
   "cell_type": "code",
   "execution_count": 40,
   "metadata": {
    "collapsed": false
   },
   "outputs": [
    {
     "ename": "InvalidArgumentError",
     "evalue": "You must feed a value for placeholder tensor 'Placeholder_1' with dtype float\n\t [[Node: Placeholder_1 = Placeholder[dtype=DT_FLOAT, shape=[], _device=\"/job:localhost/replica:0/task:0/cpu:0\"]()]]\nCaused by op u'Placeholder_1', defined at:\n  File \"/Applications/anaconda/envs/tensorflow/lib/python2.7/runpy.py\", line 162, in _run_module_as_main\n    \"__main__\", fname, loader, pkg_name)\n  File \"/Applications/anaconda/envs/tensorflow/lib/python2.7/runpy.py\", line 72, in _run_code\n    exec code in run_globals\n  File \"/Applications/anaconda/envs/tensorflow/lib/python2.7/site-packages/ipykernel/__main__.py\", line 3, in <module>\n    app.launch_new_instance()\n  File \"/Applications/anaconda/envs/tensorflow/lib/python2.7/site-packages/traitlets/config/application.py\", line 596, in launch_instance\n    app.start()\n  File \"/Applications/anaconda/envs/tensorflow/lib/python2.7/site-packages/ipykernel/kernelapp.py\", line 442, in start\n    ioloop.IOLoop.instance().start()\n  File \"/Applications/anaconda/envs/tensorflow/lib/python2.7/site-packages/zmq/eventloop/ioloop.py\", line 162, in start\n    super(ZMQIOLoop, self).start()\n  File \"/Applications/anaconda/envs/tensorflow/lib/python2.7/site-packages/tornado/ioloop.py\", line 883, in start\n    handler_func(fd_obj, events)\n  File \"/Applications/anaconda/envs/tensorflow/lib/python2.7/site-packages/tornado/stack_context.py\", line 275, in null_wrapper\n    return fn(*args, **kwargs)\n  File \"/Applications/anaconda/envs/tensorflow/lib/python2.7/site-packages/zmq/eventloop/zmqstream.py\", line 440, in _handle_events\n    self._handle_recv()\n  File \"/Applications/anaconda/envs/tensorflow/lib/python2.7/site-packages/zmq/eventloop/zmqstream.py\", line 472, in _handle_recv\n    self._run_callback(callback, msg)\n  File \"/Applications/anaconda/envs/tensorflow/lib/python2.7/site-packages/zmq/eventloop/zmqstream.py\", line 414, in _run_callback\n    callback(*args, **kwargs)\n  File \"/Applications/anaconda/envs/tensorflow/lib/python2.7/site-packages/tornado/stack_context.py\", line 275, in null_wrapper\n    return fn(*args, **kwargs)\n  File \"/Applications/anaconda/envs/tensorflow/lib/python2.7/site-packages/ipykernel/kernelbase.py\", line 276, in dispatcher\n    return self.dispatch_shell(stream, msg)\n  File \"/Applications/anaconda/envs/tensorflow/lib/python2.7/site-packages/ipykernel/kernelbase.py\", line 228, in dispatch_shell\n    handler(stream, idents, msg)\n  File \"/Applications/anaconda/envs/tensorflow/lib/python2.7/site-packages/ipykernel/kernelbase.py\", line 391, in execute_request\n    user_expressions, allow_stdin)\n  File \"/Applications/anaconda/envs/tensorflow/lib/python2.7/site-packages/ipykernel/ipkernel.py\", line 199, in do_execute\n    shell.run_cell(code, store_history=store_history, silent=silent)\n  File \"/Applications/anaconda/envs/tensorflow/lib/python2.7/site-packages/IPython/core/interactiveshell.py\", line 2723, in run_cell\n    interactivity=interactivity, compiler=compiler, result=result)\n  File \"/Applications/anaconda/envs/tensorflow/lib/python2.7/site-packages/IPython/core/interactiveshell.py\", line 2825, in run_ast_nodes\n    if self.run_code(code, result):\n  File \"/Applications/anaconda/envs/tensorflow/lib/python2.7/site-packages/IPython/core/interactiveshell.py\", line 2885, in run_code\n    exec(code_obj, self.user_global_ns, self.user_ns)\n  File \"<ipython-input-3-00d4c00c01e7>\", line 2, in <module>\n    y_ = tf.placeholder(tf.float32, shape=[None, num_labels])\n  File \"/Applications/anaconda/envs/tensorflow/lib/python2.7/site-packages/tensorflow/python/ops/array_ops.py\", line 762, in placeholder\n    name=name)\n  File \"/Applications/anaconda/envs/tensorflow/lib/python2.7/site-packages/tensorflow/python/ops/gen_array_ops.py\", line 976, in _placeholder\n    name=name)\n  File \"/Applications/anaconda/envs/tensorflow/lib/python2.7/site-packages/tensorflow/python/ops/op_def_library.py\", line 655, in apply_op\n    op_def=op_def)\n  File \"/Applications/anaconda/envs/tensorflow/lib/python2.7/site-packages/tensorflow/python/framework/ops.py\", line 2154, in create_op\n    original_op=self._default_original_op, op_def=op_def)\n  File \"/Applications/anaconda/envs/tensorflow/lib/python2.7/site-packages/tensorflow/python/framework/ops.py\", line 1154, in __init__\n    self._traceback = _extract_stack()\n",
     "output_type": "error",
     "traceback": [
      "\u001b[0;31m---------------------------------------------------------------------------\u001b[0m",
      "\u001b[0;31mInvalidArgumentError\u001b[0m                      Traceback (most recent call last)",
      "\u001b[0;32m<ipython-input-40-97a914b416d5>\u001b[0m in \u001b[0;36m<module>\u001b[0;34m()\u001b[0m\n\u001b[1;32m      1\u001b[0m \u001b[0mprediction\u001b[0m\u001b[0;34m=\u001b[0m\u001b[0mtf\u001b[0m\u001b[0;34m.\u001b[0m\u001b[0margmax\u001b[0m\u001b[0;34m(\u001b[0m\u001b[0my_\u001b[0m\u001b[0;34m,\u001b[0m\u001b[0;36m1\u001b[0m\u001b[0;34m)\u001b[0m\u001b[0;34m\u001b[0m\u001b[0m\n\u001b[0;32m----> 2\u001b[0;31m \u001b[0;32mprint\u001b[0m \u001b[0mprediction\u001b[0m\u001b[0;34m.\u001b[0m\u001b[0meval\u001b[0m\u001b[0;34m(\u001b[0m\u001b[0mfeed_dict\u001b[0m\u001b[0;34m=\u001b[0m\u001b[0;34m{\u001b[0m\u001b[0mx\u001b[0m\u001b[0;34m:\u001b[0m \u001b[0mmnist\u001b[0m\u001b[0;34m.\u001b[0m\u001b[0mimages\u001b[0m\u001b[0;34m}\u001b[0m\u001b[0;34m)\u001b[0m\u001b[0;34m\u001b[0m\u001b[0m\n\u001b[0m",
      "\u001b[0;32m/Applications/anaconda/envs/tensorflow/lib/python2.7/site-packages/tensorflow/python/framework/ops.pyc\u001b[0m in \u001b[0;36meval\u001b[0;34m(self, feed_dict, session)\u001b[0m\n\u001b[1;32m    500\u001b[0m \u001b[0;34m\u001b[0m\u001b[0m\n\u001b[1;32m    501\u001b[0m     \"\"\"\n\u001b[0;32m--> 502\u001b[0;31m     \u001b[0;32mreturn\u001b[0m \u001b[0m_eval_using_default_session\u001b[0m\u001b[0;34m(\u001b[0m\u001b[0mself\u001b[0m\u001b[0;34m,\u001b[0m \u001b[0mfeed_dict\u001b[0m\u001b[0;34m,\u001b[0m \u001b[0mself\u001b[0m\u001b[0;34m.\u001b[0m\u001b[0mgraph\u001b[0m\u001b[0;34m,\u001b[0m \u001b[0msession\u001b[0m\u001b[0;34m)\u001b[0m\u001b[0;34m\u001b[0m\u001b[0m\n\u001b[0m\u001b[1;32m    503\u001b[0m \u001b[0;34m\u001b[0m\u001b[0m\n\u001b[1;32m    504\u001b[0m \u001b[0;34m\u001b[0m\u001b[0m\n",
      "\u001b[0;32m/Applications/anaconda/envs/tensorflow/lib/python2.7/site-packages/tensorflow/python/framework/ops.pyc\u001b[0m in \u001b[0;36m_eval_using_default_session\u001b[0;34m(tensors, feed_dict, graph, session)\u001b[0m\n\u001b[1;32m   3332\u001b[0m                        \u001b[0;34m\"the tensor's graph is different from the session's \"\u001b[0m\u001b[0;34m\u001b[0m\u001b[0m\n\u001b[1;32m   3333\u001b[0m                        \"graph.\")\n\u001b[0;32m-> 3334\u001b[0;31m   \u001b[0;32mreturn\u001b[0m \u001b[0msession\u001b[0m\u001b[0;34m.\u001b[0m\u001b[0mrun\u001b[0m\u001b[0;34m(\u001b[0m\u001b[0mtensors\u001b[0m\u001b[0;34m,\u001b[0m \u001b[0mfeed_dict\u001b[0m\u001b[0;34m)\u001b[0m\u001b[0;34m\u001b[0m\u001b[0m\n\u001b[0m\u001b[1;32m   3335\u001b[0m \u001b[0;34m\u001b[0m\u001b[0m\n\u001b[1;32m   3336\u001b[0m \u001b[0;34m\u001b[0m\u001b[0m\n",
      "\u001b[0;32m/Applications/anaconda/envs/tensorflow/lib/python2.7/site-packages/tensorflow/python/client/session.pyc\u001b[0m in \u001b[0;36mrun\u001b[0;34m(self, fetches, feed_dict, options, run_metadata)\u001b[0m\n\u001b[1;32m    338\u001b[0m     \u001b[0;32mtry\u001b[0m\u001b[0;34m:\u001b[0m\u001b[0;34m\u001b[0m\u001b[0m\n\u001b[1;32m    339\u001b[0m       result = self._run(None, fetches, feed_dict, options_ptr,\n\u001b[0;32m--> 340\u001b[0;31m                          run_metadata_ptr)\n\u001b[0m\u001b[1;32m    341\u001b[0m       \u001b[0;32mif\u001b[0m \u001b[0mrun_metadata\u001b[0m\u001b[0;34m:\u001b[0m\u001b[0;34m\u001b[0m\u001b[0m\n\u001b[1;32m    342\u001b[0m         \u001b[0mproto_data\u001b[0m \u001b[0;34m=\u001b[0m \u001b[0mtf_session\u001b[0m\u001b[0;34m.\u001b[0m\u001b[0mTF_GetBuffer\u001b[0m\u001b[0;34m(\u001b[0m\u001b[0mrun_metadata_ptr\u001b[0m\u001b[0;34m)\u001b[0m\u001b[0;34m\u001b[0m\u001b[0m\n",
      "\u001b[0;32m/Applications/anaconda/envs/tensorflow/lib/python2.7/site-packages/tensorflow/python/client/session.pyc\u001b[0m in \u001b[0;36m_run\u001b[0;34m(self, handle, fetches, feed_dict, options, run_metadata)\u001b[0m\n\u001b[1;32m    562\u001b[0m     \u001b[0;32mtry\u001b[0m\u001b[0;34m:\u001b[0m\u001b[0;34m\u001b[0m\u001b[0m\n\u001b[1;32m    563\u001b[0m       results = self._do_run(handle, target_list, unique_fetches,\n\u001b[0;32m--> 564\u001b[0;31m                              feed_dict_string, options, run_metadata)\n\u001b[0m\u001b[1;32m    565\u001b[0m     \u001b[0;32mfinally\u001b[0m\u001b[0;34m:\u001b[0m\u001b[0;34m\u001b[0m\u001b[0m\n\u001b[1;32m    566\u001b[0m       \u001b[0;31m# The movers are no longer used. Delete them.\u001b[0m\u001b[0;34m\u001b[0m\u001b[0;34m\u001b[0m\u001b[0m\n",
      "\u001b[0;32m/Applications/anaconda/envs/tensorflow/lib/python2.7/site-packages/tensorflow/python/client/session.pyc\u001b[0m in \u001b[0;36m_do_run\u001b[0;34m(self, handle, target_list, fetch_list, feed_dict, options, run_metadata)\u001b[0m\n\u001b[1;32m    635\u001b[0m     \u001b[0;32mif\u001b[0m \u001b[0mhandle\u001b[0m \u001b[0;32mis\u001b[0m \u001b[0mNone\u001b[0m\u001b[0;34m:\u001b[0m\u001b[0;34m\u001b[0m\u001b[0m\n\u001b[1;32m    636\u001b[0m       return self._do_call(_run_fn, self._session, feed_dict, fetch_list,\n\u001b[0;32m--> 637\u001b[0;31m                            target_list, options, run_metadata)\n\u001b[0m\u001b[1;32m    638\u001b[0m     \u001b[0;32melse\u001b[0m\u001b[0;34m:\u001b[0m\u001b[0;34m\u001b[0m\u001b[0m\n\u001b[1;32m    639\u001b[0m       return self._do_call(_prun_fn, self._session, handle, feed_dict,\n",
      "\u001b[0;32m/Applications/anaconda/envs/tensorflow/lib/python2.7/site-packages/tensorflow/python/client/session.pyc\u001b[0m in \u001b[0;36m_do_call\u001b[0;34m(self, fn, *args)\u001b[0m\n\u001b[1;32m    657\u001b[0m       \u001b[0;31m# pylint: disable=protected-access\u001b[0m\u001b[0;34m\u001b[0m\u001b[0;34m\u001b[0m\u001b[0m\n\u001b[1;32m    658\u001b[0m       raise errors._make_specific_exception(node_def, op, error_message,\n\u001b[0;32m--> 659\u001b[0;31m                                             e.code)\n\u001b[0m\u001b[1;32m    660\u001b[0m       \u001b[0;31m# pylint: enable=protected-access\u001b[0m\u001b[0;34m\u001b[0m\u001b[0;34m\u001b[0m\u001b[0m\n\u001b[1;32m    661\u001b[0m \u001b[0;34m\u001b[0m\u001b[0m\n",
      "\u001b[0;31mInvalidArgumentError\u001b[0m: You must feed a value for placeholder tensor 'Placeholder_1' with dtype float\n\t [[Node: Placeholder_1 = Placeholder[dtype=DT_FLOAT, shape=[], _device=\"/job:localhost/replica:0/task:0/cpu:0\"]()]]\nCaused by op u'Placeholder_1', defined at:\n  File \"/Applications/anaconda/envs/tensorflow/lib/python2.7/runpy.py\", line 162, in _run_module_as_main\n    \"__main__\", fname, loader, pkg_name)\n  File \"/Applications/anaconda/envs/tensorflow/lib/python2.7/runpy.py\", line 72, in _run_code\n    exec code in run_globals\n  File \"/Applications/anaconda/envs/tensorflow/lib/python2.7/site-packages/ipykernel/__main__.py\", line 3, in <module>\n    app.launch_new_instance()\n  File \"/Applications/anaconda/envs/tensorflow/lib/python2.7/site-packages/traitlets/config/application.py\", line 596, in launch_instance\n    app.start()\n  File \"/Applications/anaconda/envs/tensorflow/lib/python2.7/site-packages/ipykernel/kernelapp.py\", line 442, in start\n    ioloop.IOLoop.instance().start()\n  File \"/Applications/anaconda/envs/tensorflow/lib/python2.7/site-packages/zmq/eventloop/ioloop.py\", line 162, in start\n    super(ZMQIOLoop, self).start()\n  File \"/Applications/anaconda/envs/tensorflow/lib/python2.7/site-packages/tornado/ioloop.py\", line 883, in start\n    handler_func(fd_obj, events)\n  File \"/Applications/anaconda/envs/tensorflow/lib/python2.7/site-packages/tornado/stack_context.py\", line 275, in null_wrapper\n    return fn(*args, **kwargs)\n  File \"/Applications/anaconda/envs/tensorflow/lib/python2.7/site-packages/zmq/eventloop/zmqstream.py\", line 440, in _handle_events\n    self._handle_recv()\n  File \"/Applications/anaconda/envs/tensorflow/lib/python2.7/site-packages/zmq/eventloop/zmqstream.py\", line 472, in _handle_recv\n    self._run_callback(callback, msg)\n  File \"/Applications/anaconda/envs/tensorflow/lib/python2.7/site-packages/zmq/eventloop/zmqstream.py\", line 414, in _run_callback\n    callback(*args, **kwargs)\n  File \"/Applications/anaconda/envs/tensorflow/lib/python2.7/site-packages/tornado/stack_context.py\", line 275, in null_wrapper\n    return fn(*args, **kwargs)\n  File \"/Applications/anaconda/envs/tensorflow/lib/python2.7/site-packages/ipykernel/kernelbase.py\", line 276, in dispatcher\n    return self.dispatch_shell(stream, msg)\n  File \"/Applications/anaconda/envs/tensorflow/lib/python2.7/site-packages/ipykernel/kernelbase.py\", line 228, in dispatch_shell\n    handler(stream, idents, msg)\n  File \"/Applications/anaconda/envs/tensorflow/lib/python2.7/site-packages/ipykernel/kernelbase.py\", line 391, in execute_request\n    user_expressions, allow_stdin)\n  File \"/Applications/anaconda/envs/tensorflow/lib/python2.7/site-packages/ipykernel/ipkernel.py\", line 199, in do_execute\n    shell.run_cell(code, store_history=store_history, silent=silent)\n  File \"/Applications/anaconda/envs/tensorflow/lib/python2.7/site-packages/IPython/core/interactiveshell.py\", line 2723, in run_cell\n    interactivity=interactivity, compiler=compiler, result=result)\n  File \"/Applications/anaconda/envs/tensorflow/lib/python2.7/site-packages/IPython/core/interactiveshell.py\", line 2825, in run_ast_nodes\n    if self.run_code(code, result):\n  File \"/Applications/anaconda/envs/tensorflow/lib/python2.7/site-packages/IPython/core/interactiveshell.py\", line 2885, in run_code\n    exec(code_obj, self.user_global_ns, self.user_ns)\n  File \"<ipython-input-3-00d4c00c01e7>\", line 2, in <module>\n    y_ = tf.placeholder(tf.float32, shape=[None, num_labels])\n  File \"/Applications/anaconda/envs/tensorflow/lib/python2.7/site-packages/tensorflow/python/ops/array_ops.py\", line 762, in placeholder\n    name=name)\n  File \"/Applications/anaconda/envs/tensorflow/lib/python2.7/site-packages/tensorflow/python/ops/gen_array_ops.py\", line 976, in _placeholder\n    name=name)\n  File \"/Applications/anaconda/envs/tensorflow/lib/python2.7/site-packages/tensorflow/python/ops/op_def_library.py\", line 655, in apply_op\n    op_def=op_def)\n  File \"/Applications/anaconda/envs/tensorflow/lib/python2.7/site-packages/tensorflow/python/framework/ops.py\", line 2154, in create_op\n    original_op=self._default_original_op, op_def=op_def)\n  File \"/Applications/anaconda/envs/tensorflow/lib/python2.7/site-packages/tensorflow/python/framework/ops.py\", line 1154, in __init__\n    self._traceback = _extract_stack()\n"
     ]
    }
   ],
   "source": [
    "prediction=tf.argmax(y_,1)\n",
    "print prediction.eval(feed_dict={x: mnist.images})"
   ]
  },
  {
   "cell_type": "code",
   "execution_count": 52,
   "metadata": {
    "collapsed": false
   },
   "outputs": [
    {
     "name": "stdout",
     "output_type": "stream",
     "text": [
      "[0 0 0 0 0 0 0 0 0 0]\n"
     ]
    }
   ],
   "source": [
    "prediction=tf.argmax(y,1)\n",
    "print prediction.eval(feed_dict={x: batch[0]})"
   ]
  },
  {
   "cell_type": "code",
   "execution_count": 53,
   "metadata": {
    "collapsed": false
   },
   "outputs": [
    {
     "data": {
      "text/plain": [
       "<tf.Tensor 'Softmax:0' shape=(?, 3) dtype=float32>"
      ]
     },
     "execution_count": 53,
     "metadata": {},
     "output_type": "execute_result"
    }
   ],
   "source": [
    "y"
   ]
  },
  {
   "cell_type": "code",
   "execution_count": null,
   "metadata": {
    "collapsed": true
   },
   "outputs": [],
   "source": []
  }
 ],
 "metadata": {
  "kernelspec": {
   "display_name": "Python 2",
   "language": "python",
   "name": "python2"
  },
  "language_info": {
   "codemirror_mode": {
    "name": "ipython",
    "version": 2
   },
   "file_extension": ".py",
   "mimetype": "text/x-python",
   "name": "python",
   "nbconvert_exporter": "python",
   "pygments_lexer": "ipython2",
   "version": "2.7.11"
  }
 },
 "nbformat": 4,
 "nbformat_minor": 0
}
